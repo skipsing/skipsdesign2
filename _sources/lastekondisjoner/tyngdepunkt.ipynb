{
 "cells": [
  {
   "cell_type": "markdown",
   "id": "9ba400d4-62a1-45a2-a2b8-222f736fa782",
   "metadata": {},
   "source": [
    "# Øving vekt og tyngdepunktsberegninger"
   ]
  },
  {
   "cell_type": "markdown",
   "id": "213afae8-f845-43f0-b3c1-172550e0cc43",
   "metadata": {},
   "source": [
    "## Oppgave 1\n",
    "\n",
    "På figur under er det plassert vekter langs en stang, og med tilhørende avstander gitt fra punktet $A$. Vektstangens tyngdepunkt er $2.1m$ fra $A$. Vektstangen veier $15kg$\n",
    "\n",
    "![fig.1](https://cdn.jsdelivr.net/gh/skipsing/skipsdesign2/lastekondisjoner/images/ovning-tyngdepunkt-1.png)\n",
    "\n",
    "Beregn felles tyngdepunkt for alle vektene ut fra punktet $A$. \n"
   ]
  },
  {
   "cell_type": "code",
   "execution_count": 1,
   "id": "201ce7ed-4473-449f-bb0f-1f812fbc5be2",
   "metadata": {},
   "outputs": [],
   "source": [
    "#skriv din kode her\n",
    "#"
   ]
  },
  {
   "cell_type": "markdown",
   "id": "31ffdf44-1d75-4ece-a296-363ecabbc49b",
   "metadata": {},
   "source": [
    "Fasit: $2.41m$ fra $A$. "
   ]
  },
  {
   "cell_type": "markdown",
   "id": "4f2f0c14-0c83-4b49-8676-481476929d28",
   "metadata": {},
   "source": [
    "## Oppgave 2\n",
    "\n",
    "Et skip med deplasement $18350t$ har tyngdepunkt $96.3m$ fra $Ap$. \n",
    "\n",
    "Det lastes deretter følgende laster:\n",
    "- $600t$ med *LCG* $61.3m$ fra $Ap$\n",
    "- $800t$ med *LCG* $122.2m$ fra $Ap$\n",
    "- $400t$ med *LCG* $146.4m$ fra $Ap$\n",
    "- $475t$ med *LCG* $184.1m$ fra $Ap$\n",
    "\n",
    "![fig.2](https://cdn.jsdelivr.net/gh/skipsing/skipsdesign2/lastekondisjoner/images/ovning-tyngdepunkt-2.png)\n",
    "\n",
    "Beregn nytt $\\Delta$ og samlet langskipstyngdepunkt $LCG$ målt fra aktre perpendikulær."
   ]
  },
  {
   "cell_type": "code",
   "execution_count": 2,
   "id": "d20ad0ee-2493-4314-b3b8-1a24b04e3d45",
   "metadata": {},
   "outputs": [],
   "source": [
    "# skriv din kode her"
   ]
  },
  {
   "cell_type": "markdown",
   "id": "33156890-11e8-4571-b5c1-bdbb39eaa558",
   "metadata": {},
   "source": [
    "Fasit: $LCG = 99.28m$ og $\\Delta = 20625t$."
   ]
  },
  {
   "cell_type": "markdown",
   "id": "385fdf64-de20-4fa3-811f-ac888eecdb44",
   "metadata": {},
   "source": [
    "## Oppgave 3"
   ]
  },
  {
   "cell_type": "markdown",
   "id": "1e33a1f7-ef4b-4d2b-9a84-1286a97a9c38",
   "metadata": {},
   "source": [
    "Et skip under bygging har estimert følgende vekter på byggeblokkene med tilhørende tyngdepunkter:\n",
    "- forskip $210t$ med $LCG=102m$ fra Ap og $VCG=6m$ fra baseline\n",
    "- midtskip $1530t$ med $LCG=62m$ fra Ap og $VCG=5.5m$ fra baseline\n",
    "- akterskip $340t$ med $LCG=13m$ fra Ap og $VCG=5.7m$ fra baseline\n",
    "- overbygg $390t$ med $LCG=16m$ fra Ap og $VCG=12.2m$ fra baseline\n",
    "- bro $112t$ med $LCG=17.2m$ fra Ap og $VCG=16.4m$ fra baseline\n",
    "\n",
    "![fig.3](https://cdn.jsdelivr.net/gh/skipsing/skipsdesign2/lastekondisjoner/images/ovning-tyngdepunkt-3.png)\n",
    "\n",
    "Beregn lettskipsdeplasementet, $\\Delta_{lettskip}$ med tilhørende samlet langskipstyngdepunkt, $LCG$ og vertikaltyngdepunkt, $VCG$."
   ]
  },
  {
   "cell_type": "code",
   "execution_count": 1,
   "id": "d37cc8b0-c8af-4ed4-8db5-8db46eef9d70",
   "metadata": {},
   "outputs": [],
   "source": [
    "# skriv din kode her\n"
   ]
  },
  {
   "cell_type": "markdown",
   "id": "e0f2068c-615a-42cb-95e0-852c8b258018",
   "metadata": {},
   "source": [
    "Fasit:  $\\Delta = 2582t$, $LCG = 49.9m$ og $VCG = 7.05m$"
   ]
  },
  {
   "cell_type": "markdown",
   "id": "865a8d2a-0a37-4950-9a06-8a637028ef52",
   "metadata": {},
   "source": [
    "## Oppgave 4\n",
    "\n",
    "For skipet under bygging i oppgave 3 har ingeniørene beregnet $GM_0=1.03m$ basert på samlet $VCG=7.05m$. Nå viser det seg at tyngdepunktet til byggeblokkene varierer med $+/-15\\%$ fra opprinnelig estimat. Vil skipet fremdeles klare $GM_0$-kravet på $15cm$?"
   ]
  },
  {
   "cell_type": "code",
   "execution_count": 2,
   "id": "76795a16-89ca-4206-a32f-6d372dd12ee1",
   "metadata": {},
   "outputs": [],
   "source": [
    "# Skriv din kode her\n"
   ]
  }
 ],
 "metadata": {
  "kernelspec": {
   "display_name": "Python 3 (ipykernel)",
   "language": "python",
   "name": "python3"
  },
  "language_info": {
   "codemirror_mode": {
    "name": "ipython",
    "version": 3
   },
   "file_extension": ".py",
   "mimetype": "text/x-python",
   "name": "python",
   "nbconvert_exporter": "python",
   "pygments_lexer": "ipython3",
   "version": "3.9.13"
  }
 },
 "nbformat": 4,
 "nbformat_minor": 5
}
