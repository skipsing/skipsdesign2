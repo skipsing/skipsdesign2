{
 "cells": [
  {
   "cell_type": "markdown",
   "metadata": {},
   "source": [
    "# Stabilitetskriterier IMO koden "
   ]
  },
  {
   "cell_type": "markdown",
   "metadata": {},
   "source": [
    "Laget av: Lars Erik Nygård,  [lars.e.nygard@ntnu.no](mailto:lars.e.nygard@ntnu.no) <div style=\"text-align: right\"> Kontakt [lars.e.nygard@ntnu.no](mailto:lars.e.nygard@ntnu.no)</div>\n",
    "<div style=\"text-align: right\"> Dato: 26.01.2023</div>\n"
   ]
  },
  {
   "cell_type": "markdown",
   "metadata": {},
   "source": [
    "\n"
   ]
  },
  {
   "cell_type": "markdown",
   "metadata": {},
   "source": []
  },
  {
   "cell_type": "markdown",
   "metadata": {},
   "source": []
  }
 ],
 "metadata": {
  "language_info": {
   "name": "python"
  }
 },
 "nbformat": 4,
 "nbformat_minor": 2
}
