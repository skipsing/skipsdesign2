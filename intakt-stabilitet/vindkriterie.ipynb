{
 "cells": [
  {
   "cell_type": "markdown",
   "metadata": {},
   "source": [
    "# IMO vindkriterie "
   ]
  },
  {
   "cell_type": "markdown",
   "metadata": {},
   "source": [
    "-----\n",
    "\n",
    "<p style=\"text-align:center;\">\n",
    "    ✍️ Lars Erik Nygård  <a href=\"mailto:lars.e.nygard@ntnu.no\">📧</a> 12.02.2024 📅 \n",
    "</p>\n",
    "\n",
    "-----"
   ]
  },
  {
   "cell_type": "markdown",
   "metadata": {},
   "source": [
    "I tillegg til de generelle kravene som vi så på tidligere har IMO også et *værkriterie*. Bakgrunnen for dette kriteriet er at en betrakter fartøyet som *dødt*, det vil si at det har mistet motorkraft og muligheten til å navigere. Fartøyet vil da kunne legge seg på siden og få både vind og bølger fra minst gunstige retning samtidig. En kan finne mere informasjon om dette kriteriet [på IMO sine nettsider](https://www.imorules.com/GUID-8206CA1C-E079-4E62-BF3F-9BECF96D6969.html). \n",
    "\n",
    "Vi skal se nærmere på de ulike komponentene: \n"
   ]
  },
  {
   "cell_type": "markdown",
   "metadata": {},
   "source": [
    "Krengende arm, $l_{w1}$, for den konstante vinden er gitt som"
   ]
  },
  {
   "cell_type": "markdown",
   "metadata": {},
   "source": [
    "$$ l_{w1} = \\frac{P \\times A \\times Z}{1000 \\times g \\times \\Delta} $$\n",
    "\n",
    "og der hvor \n",
    "\n",
    "$$ P = 504 \\frac{N}{m²} $$\n",
    "\n",
    "$$ A = \\text{ Projisert areal av fartøy og last over vannlinjen i }m² $$\n",
    "\n",
    "$$ Z = \\text{ Vertikal avstand mellom arealsenteret til A og halve dypgangen T i m} $$\n",
    "\n",
    "$$ g = 9.81\\frac{m}{s²} \\text{(gravitasjonskonstant) }  $$\n",
    "\n",
    "$$ \\Delta = \\text{vektsdeplasementet i t } $$"
   ]
  },
  {
   "cell_type": "markdown",
   "metadata": {},
   "source": []
  }
 ],
 "metadata": {
  "kernelspec": {
   "display_name": "Python 3",
   "language": "python",
   "name": "python3"
  },
  "language_info": {
   "codemirror_mode": {
    "name": "ipython",
    "version": 3
   },
   "file_extension": ".py",
   "mimetype": "text/x-python",
   "name": "python",
   "nbconvert_exporter": "python",
   "pygments_lexer": "ipython3",
   "version": "3.10.12"
  }
 },
 "nbformat": 4,
 "nbformat_minor": 2
}
