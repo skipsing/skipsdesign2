{
 "cells": [
  {
   "cell_type": "markdown",
   "id": "2f464587-ec3f-45a7-a4c6-63ea3204302e",
   "metadata": {},
   "source": [
    "# Trimberegning North Pomor \n",
    "\n",
    "![North Pomor](https://cdn.jsdelivr.net/gh/skipsing/skipsdesign2/trim/images/north-pomor.PNG)\n",
    "\n",
    "Fig. Plattform Supply Vessel North Pomor "
   ]
  },
  {
   "cell_type": "markdown",
   "id": "bd751118-7926-4611-8342-e2bae9fbc730",
   "metadata": {},
   "source": [
    "[Link til hydrostatikktabell for North Pomor](https://cdn.jsdelivr.net/gh/skipsing/skipsdesign2/trim/images/hydrostatikk-north-pomor.pdf)\n",
    "\n",
    "\n",
    "Skipet flyter på *even-keel* med en dypgang på $T=5.20[m]$, $KG=6.88[m]$ og $L_{pp}=82.2[m]$\n",
    "\n",
    "### Oppgave A. Regn ut skipets GM i denne tilstanden"
   ]
  },
  {
   "cell_type": "code",
   "execution_count": null,
   "id": "0ed876ee-ac01-41df-bc55-1a972b2a1018",
   "metadata": {},
   "outputs": [],
   "source": [
    "# Skriv din kode her. "
   ]
  },
  {
   "cell_type": "markdown",
   "id": "64707625-f508-4567-a5e8-9a6da45d40b3",
   "metadata": {},
   "source": [
    "*Fasit: $GM=2.48[m]$* "
   ]
  },
  {
   "cell_type": "markdown",
   "id": "4c08a4a4-2a47-47ed-bb64-5cbf08fc5acd",
   "metadata": {},
   "source": [
    "Det lastes $1100[t]$ last på dekk, med $Lcg_{last}=28.00[m]$ f.f. AP og $Vcg_{last}=1.5[m]$ over lastedekk. Videre lastes $600[t]$ metanol i lastetanker under dekk, med $Lcg=\n",
    "40[m]$ f. f. AP, og $3.10[m]$ over baseline. Lastedekket er plassert $8.50[m]$ \n",
    "over baseline. Metanoltankene er slakke, med en total $I_{tank}=1250[m^4]$. \n",
    "Metanol har videre en tetthet $ρ_{metanol}=0.79[t/m^3].$\n"
   ]
  },
  {
   "cell_type": "markdown",
   "id": "e5075572-89ba-49c9-8d18-811aaa6c9d97",
   "metadata": {},
   "source": [
    "### Oppgave B. Regn ut dypgang forut og akter etter lastingen. "
   ]
  },
  {
   "cell_type": "code",
   "execution_count": 1,
   "id": "77a1551b-44d7-48dd-a57a-9bb3911d5d74",
   "metadata": {},
   "outputs": [],
   "source": [
    "# Skriv din kode her"
   ]
  },
  {
   "cell_type": "markdown",
   "id": "b22b2a8f-6e46-44c6-9a8d-7bdb1c9231f4",
   "metadata": {},
   "source": [
    "*Fasit: $T_A=6.54[m]$, $T_F=6.08[m]$*"
   ]
  },
  {
   "cell_type": "markdown",
   "id": "57cf0192-4b6a-4142-8ffe-e65f709f4961",
   "metadata": {},
   "source": [
    "### Oppgave C. Regn ut skipets metasenterhøyde GM etter lastingen. Anta verdier for 0 trim i utregningene."
   ]
  },
  {
   "cell_type": "code",
   "execution_count": 2,
   "id": "65c8e419-caa9-46f0-b741-bed3713c8429",
   "metadata": {},
   "outputs": [],
   "source": [
    "# Skriv din kode her"
   ]
  },
  {
   "cell_type": "markdown",
   "id": "15afa0e2-dcc7-4745-964f-bffa5408d60e",
   "metadata": {},
   "source": [
    "*Fasit: $GM = 1.80[m]$*"
   ]
  },
  {
   "cell_type": "markdown",
   "id": "dbd1a065-b62b-483c-b553-37e7b5e128a1",
   "metadata": {},
   "source": [
    "Skipperen ønsker å trimme skipet til even keel. En forpiggtank er plassert med$Lcg=80.40[m]$ f. f. AP.\n",
    "\n",
    "### Oppgave D. Hvor mye vann må skipperen fylle i skipets forpiggtank for å oppnå *even-keel*?\n",
    "Anta verdier for 0 trim i utregningene.\n"
   ]
  },
  {
   "cell_type": "code",
   "execution_count": 4,
   "id": "4c61c32d-b103-46be-82bf-4a5da4c7d5f5",
   "metadata": {},
   "outputs": [],
   "source": [
    "# Skriv din kode her"
   ]
  },
  {
   "cell_type": "markdown",
   "id": "3ffb0ef6-11e3-4cca-9ee1-16e8f5083f68",
   "metadata": {},
   "source": [
    "*Fasit: Det må fylles $W=96.4[t]$ for å oppnå *even-keel*. (Bruker prosedyre for små vekter.)*"
   ]
  },
  {
   "cell_type": "markdown",
   "id": "e9bdfd22-8725-4f09-9ac1-6904c4048b27",
   "metadata": {},
   "source": [
    "[Link til fullstendig løsningsforslag](https://cdn.jsdelivr.net/gh/skipsing/skipsdesign2/trim/images/løsningsforslag-north-pomor.pdf)"
   ]
  },
  {
   "cell_type": "code",
   "execution_count": null,
   "id": "f8d49646-cdeb-4ee4-9ca7-bb270affe220",
   "metadata": {},
   "outputs": [],
   "source": []
  }
 ],
 "metadata": {
  "kernelspec": {
   "display_name": "Python 3 (ipykernel)",
   "language": "python",
   "name": "python3"
  },
  "language_info": {
   "codemirror_mode": {
    "name": "ipython",
    "version": 3
   },
   "file_extension": ".py",
   "mimetype": "text/x-python",
   "name": "python",
   "nbconvert_exporter": "python",
   "pygments_lexer": "ipython3",
   "version": "3.9.13"
  }
 },
 "nbformat": 4,
 "nbformat_minor": 5
}
