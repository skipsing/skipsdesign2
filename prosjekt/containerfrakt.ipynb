{
 "cells": [
  {
   "cell_type": "markdown",
   "id": "040ebe20-b489-4abe-8a26-a927db1e987b",
   "metadata": {},
   "source": [
    "# Design av fraktebåt for transport av Stressless lenestoler\n",
    "\n",
    "På [Ekornes](https://www.ekornes.com/nb-no) i Sykkylven produseres det ulike typer møbler, og kanskje den mest kjente er *Stressless*-lenestolen. De har en daglig kapasitet på ca $1000$ Stressless. En befrakter ser nå et behov for å transportere containere med Stressless sjøveien fra Sykkylven til Ålesund. \n",
    "\n",
    "## Teknisk spesifikasjon \n",
    "- Et lastefartøy med kapasitet på $ 200 TEU $ pr. seilas. [TEU](https://no.wikipedia.org/wiki/TEU) står for *Twenty-foot equivalent unit*. \n",
    "- Containerne skal stues og lagres i åpent lasterom og på dekk. \n",
    "- Som utgangspunkt for designprosessen kan en anta at lettskipsvekten er $ W_{lettskip} = 1000 [tonn]$, og med tilhørende $VCG_{lettskip} = 70[\\%] $ av D *(Depth)*. \n",
    "- Drivstoffkapasitet, alternativt vekt av batterier, er estimert til $W_{drivstoff} = 400[tonn]$ og med tilhørende $VCG_{drivstoff} = 50[\\%] $ av D *(Depth)*. \n",
    "\n",
    "Hver *TEU*/Container har følgende data oppgitt (se figur under): \n",
    "- lengde $ 6.058[m]$\n",
    "- bredde $ 2.438[m]$\n",
    "- høyde  $ 2.591[m]$\n",
    "- vekt med innhold $ W_{container} = 9 [tonn]$\n",
    "- tyngdepunkt midt i containeren (LCG og VCG)\n",
    "\n",
    "Det er ønskelig at fartøyets lasterom og hoveddimensjoner optimaliseres for denne last og seilas. Servicehastighet skal være $ 15[\\frac{nm}{h}]$.\n",
    "\n",
    "\n"
   ]
  },
  {
   "cell_type": "markdown",
   "id": "3f5230a9-f055-4341-8f4a-faf8e4c80379",
   "metadata": {},
   "source": [
    "![container](https://cdn.jsdelivr.net/gh/skipsing/skipsdesign2/prosjekt/images/container.png)\n",
    "\n",
    "Fig. Størrelse på Container\n",
    "\n",
    " ## Leveranse \n",
    "Fartøyet skal designes og presenteres med følgende tegninger og dokumenter: \n",
    " - General Arrangement\n",
    " - Tankplan \n",
    " - Linjetegning \n",
    " - Stabilitetshåndbok\n",
    " - Motstandsprediksjon med modellforsøk (rapport)\n",
    " - 3d visualisering \n",
    " - 1d skipsbevegelse modellforsøk (rapport)"
   ]
  },
  {
   "cell_type": "markdown",
   "id": "f9c78682",
   "metadata": {},
   "source": []
  }
 ],
 "metadata": {
  "kernelspec": {
   "display_name": "Python 3 (ipykernel)",
   "language": "python",
   "name": "python3"
  },
  "language_info": {
   "codemirror_mode": {
    "name": "ipython",
    "version": 3
   },
   "file_extension": ".py",
   "mimetype": "text/x-python",
   "name": "python",
   "nbconvert_exporter": "python",
   "pygments_lexer": "ipython3",
   "version": "3.9.13"
  }
 },
 "nbformat": 4,
 "nbformat_minor": 5
}
