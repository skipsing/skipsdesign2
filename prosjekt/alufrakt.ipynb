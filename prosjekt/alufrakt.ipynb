{
 "cells": [
  {
   "cell_type": "markdown",
   "id": "040ebe20-b489-4abe-8a26-a927db1e987b",
   "metadata": {},
   "source": [
    "# Design av fraktebåt for transport av rå-aluminium \n",
    "\n",
    "[Hydro Sunndal](https://www.hydro.com/no-NO/om-hydro/hydro-locations-worldwide/europe/norway/sunndal/) på Sunndalsøra produserer ulike typer primæraluminium, og de har en årlig kapasitet på $400 000 tonn$. En befrakter ønsker å flytte transport av aluminiumen fra vei til sjø. De ser blant annet et behov for å transportere Coiler med primæraluminium sjøveien til Molde. \n",
    "\n",
    "## Teknisk spesifikasjon\n",
    "- Et fraktefartøy som skal kunne frakte  $ 1500 [tonn]$ coiler pr. seilas.\n",
    "- Lasten skal være beskyttet værtett i eget lasterom. \n",
    "- Som utgangspunkt for designprosessen kan en anta at lettskipsvekten er $ W_{lettskip} = 1000 [tonn]$, og med tilhørende $VCG_{lettskip} = 70[\\%] $ av D *(Depth)*. \n",
    "- Drivstoffkapasitet, alternativt vekt av batterier, er estimert til $ W_{drivstoff} = 400[tonn]$ og med tilhørende $VCG_{drivstoff} = 50[\\%] $ av D *(Depth)*. \n",
    "\n",
    "Hver coil har følgende data oppgitt (se figur under): \n",
    "- ytre diameter (OD) $1000[mm]$\n",
    "- bredde (W) på $900[mm]$ \n",
    "- veier $1938[kg]$  \n",
    "\n",
    "Det er ønskelig at fartøyets lasterom og hoveddimensjoner optimaliseres for denne last og seilas. Servicehastighet skal være $ 13[\\frac{nm}{h}]$.\n",
    "\n"
   ]
  },
  {
   "cell_type": "markdown",
   "id": "3f5230a9-f055-4341-8f4a-faf8e4c80379",
   "metadata": {},
   "source": [
    "![alucoil](https://cdn.jsdelivr.net/gh/skipsing/skipsdesign2/prosjekt/images/alucoil.png)\n",
    " Fig. Størrelse på Aluminiumcoil\n",
    " \n",
    " ## Leveranse \n",
    "Fartøyet skal designes og presenteres med følgende tegninger og dokumenter: \n",
    " - General Arrangement\n",
    " - Tankplan \n",
    " - Linjetegning \n",
    " - Stabilitetshåndbok\n",
    " - Motstandsprediksjon med modellforsøk (rapport)\n",
    " - 3d visualisering \n",
    " - 1d skipsbevegelse modellforsøk (rapport)\n"
   ]
  }
 ],
 "metadata": {
  "kernelspec": {
   "display_name": "Python 3 (ipykernel)",
   "language": "python",
   "name": "python3"
  },
  "language_info": {
   "codemirror_mode": {
    "name": "ipython",
    "version": 3
   },
   "file_extension": ".py",
   "mimetype": "text/x-python",
   "name": "python",
   "nbconvert_exporter": "python",
   "pygments_lexer": "ipython3",
   "version": "3.9.13"
  }
 },
 "nbformat": 4,
 "nbformat_minor": 5
}
