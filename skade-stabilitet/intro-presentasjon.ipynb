{
 "cells": [
  {
   "cell_type": "markdown",
   "metadata": {
    "slideshow": {
     "slide_type": "slide"
    }
   },
   "source": [
    "\n",
    "<iframe width=\"560\" height=\"315\" src=\"https://www.youtube.com/embed/SP7BWb1ndpA?si=KqKgA2cvAT11t8kv\" title=\"YouTube video player\" frameborder=\"0\" allow=\"accelerometer; autoplay; clipboard-write; encrypted-media; gyroscope; picture-in-picture; web-share\" referrerpolicy=\"strict-origin-when-cross-origin\" allowfullscreen></iframe>"
   ]
  },
  {
   "cell_type": "markdown",
   "metadata": {},
   "source": [
    "# Skadestabilitet \n",
    "\n",
    "<p style=\"text-align:center;\">\n",
    "    ✍️ Lars Erik Nygård (modifisert og redigert) <a href=\"mailto:lars.e.nygard@ntnu.no\">📧</a> \n",
    "</p>\n",
    "<p style=\"text-align:center;\">\n",
    "    ✍️ Håvard Vollset Lien. \n",
    "</p>\n",
    "<p style=\"text-align:center;\">\n",
    "📅31.03.2024    🎬- \n",
    "</p>\n",
    "<hr>\n"
   ]
  },
  {
   "cell_type": "markdown",
   "metadata": {},
   "source": [
    "## International Convention of the Safety of Life at Sea \n",
    "\n",
    "- bedre kjent som SOLAS\n",
    "- Ble initiert rett etter Titanics forlis i 1912, men pga. 1. verdenskrig ble den ikke gjeldende før i 1933.\n",
    "- Dekker flere felt, både maskinsystemer, brannsikkerhet , livredningsutstyr, nødstyring, radio, etc. samt en av de viktigste delene, som er skadestabilitet.\n",
    "- SOLAS gjelder for laste- og passasjerskip (også kalt konvensjonsskip)\n",
    "- Påvirket og endret av flere kjente forlis i ettertid.\n"
   ]
  }
 ],
 "metadata": {
  "kernelspec": {
   "display_name": "Python 3",
   "language": "python",
   "name": "python3"
  },
  "language_info": {
   "name": "python",
   "version": "3.10.8"
  }
 },
 "nbformat": 4,
 "nbformat_minor": 2
}
