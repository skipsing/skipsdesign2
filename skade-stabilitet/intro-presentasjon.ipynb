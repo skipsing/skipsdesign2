{
 "cells": [
  {
   "cell_type": "markdown",
   "metadata": {
    "slideshow": {
     "slide_type": "slide"
    }
   },
   "source": [
    "\n",
    "<iframe width=\"560\" height=\"315\" src=\"https://www.youtube.com/embed/SP7BWb1ndpA?si=KqKgA2cvAT11t8kv\" title=\"YouTube video player\" frameborder=\"0\" allow=\"accelerometer; autoplay; clipboard-write; encrypted-media; gyroscope; picture-in-picture; web-share\" referrerpolicy=\"strict-origin-when-cross-origin\" allowfullscreen></iframe>"
   ]
  },
  {
   "cell_type": "markdown",
   "metadata": {},
   "source": [
    "# Skadestabilitet \n",
    "\n",
    "<p style=\"text-align:center;\">\n",
    "    ✍️ Lars Erik Nygård (modifisert og redigert) <a href=\"mailto:lars.e.nygard@ntnu.no\">📧</a> \n",
    "</p>\n",
    "<p style=\"text-align:center;\">\n",
    "    ✍️ Håvard Vollset Lien. \n",
    "</p>\n",
    "<p style=\"text-align:center;\">\n",
    "📅31.03.2024    🎬- \n",
    "</p>\n",
    "<hr>\n"
   ]
  },
  {
   "cell_type": "markdown",
   "metadata": {},
   "source": [
    "## International Convention of the Safety of Life at Sea \n",
    "\n",
    "- bedre kjent som SOLAS\n",
    "- Ble initiert rett etter Titanics forlis i 1912, men pga. 1. verdenskrig ble den ikke gjeldende før i 1933.\n",
    "- Dekker flere felt, både maskinsystemer, brannsikkerhet , livredningsutstyr, nødstyring, radio, etc. samt en av de viktigste delene, som er skadestabilitet.\n",
    "- SOLAS gjelder for laste- og passasjerskip (også kalt konvensjonsskip)\n",
    "- Påvirket og endret av flere kjente forlis i ettertid.\n"
   ]
  },
  {
   "cell_type": "markdown",
   "metadata": {},
   "source": [
    "## Skadestabilitetsreglene i SOLAS gjelder for……\n",
    "\n",
    "- Lasteskip med regellengde over 80 meter.\n",
    "- Passasjerskip over 500 GT.\n",
    "\n",
    "I tillegg: Code of Safety for Special Purpose Ships 2009 (SPS koden), som ble utviklet for spesielle fartøy med personell i grenseland mellom mannskap og passasjerer. \n",
    "\n",
    "- $<60$ personer om bord => lasteskipsregler\n",
    "- $>60$ personer om bord => passasjerskipsregler \n",
    "\n"
   ]
  },
  {
   "cell_type": "markdown",
   "metadata": {},
   "source": [
    "## Skadestabilitetsreglene i SOLAS gjelder ikke for....\n",
    "\n",
    "SOLAS gjelder ikke for fiskefartøy, marinefartøy eller større lystfartøy.\n",
    "\n",
    "Fiskefartøy bygges iht. Torremolinos-konvensjonen av 1977, etterfulgt av Cape Town Agreement av 2012, og har egne skadestabilitetskrav dersom fiskefartøyet:\n",
    "- har en regellengde på over 100 meter.\n",
    "- OG har over 100 personer om bord. \n"
   ]
  },
  {
   "cell_type": "markdown",
   "metadata": {},
   "source": [
    "- Marinefartøy dekkes av en serie spesielle regelverk. NATO har egne regler, men i tillegg har US Navy, Tyskland, Storbritannia, Russland etc. egne krav, inkludert skadestabilitet.\n",
    "\n",
    "- Lystfartøy (yachts) er oftest registrert hos noen få øystater, som har egne regelverk for denne typen fartøy, t.d. Cayman Islands. Disse flaggene kalles ofte flags of convenience, fordi de har lettere krav enn IMO, og legger seg ikke opp i operasjonelle aspekter som bemanning etc.\n",
    " "
   ]
  }
 ],
 "metadata": {
  "kernelspec": {
   "display_name": "Python 3",
   "language": "python",
   "name": "python3"
  },
  "language_info": {
   "name": "python",
   "version": "3.10.8"
  }
 },
 "nbformat": 4,
 "nbformat_minor": 2
}
